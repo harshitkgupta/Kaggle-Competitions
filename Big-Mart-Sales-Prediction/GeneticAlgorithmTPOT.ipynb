{
 "cells": [
  {
   "cell_type": "code",
   "execution_count": 114,
   "metadata": {
    "collapsed": true
   },
   "outputs": [],
   "source": [
    "import numpy as np\n",
    "import pandas as pd\n",
    "import matplotlib.pyplot as plt\n",
    "%matplotlib inline"
   ]
  },
  {
   "cell_type": "code",
   "execution_count": 115,
   "metadata": {
    "collapsed": true
   },
   "outputs": [],
   "source": [
    "from sklearn.preprocessing import LabelEncoder\n",
    "from sklearn.preprocessing import Normalizer\n",
    "from sklearn.model_selection import train_test_split\n",
    "from sklearn.metrics import mean_squared_error"
   ]
  },
  {
   "cell_type": "code",
   "execution_count": 116,
   "metadata": {
    "collapsed": true
   },
   "outputs": [],
   "source": [
    "train = pd.read_csv(\"Train.csv\")\n",
    "test = pd.read_csv(\"Test.csv\")"
   ]
  },
  {
   "cell_type": "code",
   "execution_count": 117,
   "metadata": {},
   "outputs": [
    {
     "name": "stdout",
     "output_type": "stream",
     "text": [
      "(8523, 12)\n",
      "(5681, 11)\n"
     ]
    }
   ],
   "source": [
    "print(train.shape)\n",
    "print(test.shape)"
   ]
  },
  {
   "cell_type": "code",
   "execution_count": 118,
   "metadata": {},
   "outputs": [
    {
     "name": "stdout",
     "output_type": "stream",
     "text": [
      "       Item_Identifier  Item_Weight Item_Fat_Content  Item_Visibility  \\\n",
      "count             8523  7060.000000             8523      8523.000000   \n",
      "unique            1559          NaN                5              NaN   \n",
      "top              FDG33          NaN          Low Fat              NaN   \n",
      "freq                10          NaN             5089              NaN   \n",
      "mean               NaN    12.857645              NaN         0.066132   \n",
      "std                NaN     4.643456              NaN         0.051598   \n",
      "min                NaN     4.555000              NaN         0.000000   \n",
      "25%                NaN     8.773750              NaN         0.026989   \n",
      "50%                NaN    12.600000              NaN         0.053931   \n",
      "75%                NaN    16.850000              NaN         0.094585   \n",
      "max                NaN    21.350000              NaN         0.328391   \n",
      "\n",
      "                    Item_Type     Item_MRP Outlet_Identifier  \\\n",
      "count                    8523  8523.000000              8523   \n",
      "unique                     16          NaN                10   \n",
      "top     Fruits and Vegetables          NaN            OUT027   \n",
      "freq                     1232          NaN               935   \n",
      "mean                      NaN   140.992782               NaN   \n",
      "std                       NaN    62.275067               NaN   \n",
      "min                       NaN    31.290000               NaN   \n",
      "25%                       NaN    93.826500               NaN   \n",
      "50%                       NaN   143.012800               NaN   \n",
      "75%                       NaN   185.643700               NaN   \n",
      "max                       NaN   266.888400               NaN   \n",
      "\n",
      "        Outlet_Establishment_Year Outlet_Size Outlet_Location_Type  \\\n",
      "count                 8523.000000        6113                 8523   \n",
      "unique                        NaN           3                    3   \n",
      "top                           NaN      Medium               Tier 3   \n",
      "freq                          NaN        2793                 3350   \n",
      "mean                  1997.831867         NaN                  NaN   \n",
      "std                      8.371760         NaN                  NaN   \n",
      "min                   1985.000000         NaN                  NaN   \n",
      "25%                   1987.000000         NaN                  NaN   \n",
      "50%                   1999.000000         NaN                  NaN   \n",
      "75%                   2004.000000         NaN                  NaN   \n",
      "max                   2009.000000         NaN                  NaN   \n",
      "\n",
      "              Outlet_Type  Item_Outlet_Sales  \n",
      "count                8523        8523.000000  \n",
      "unique                  4                NaN  \n",
      "top     Supermarket Type1                NaN  \n",
      "freq                 5577                NaN  \n",
      "mean                  NaN        2181.288914  \n",
      "std                   NaN        1706.499616  \n",
      "min                   NaN          33.290000  \n",
      "25%                   NaN         834.247400  \n",
      "50%                   NaN        1794.331000  \n",
      "75%                   NaN        3101.296400  \n",
      "max                   NaN       13086.964800  \n"
     ]
    }
   ],
   "source": [
    "print(train.describe(include= 'all'))"
   ]
  },
  {
   "cell_type": "code",
   "execution_count": 119,
   "metadata": {},
   "outputs": [
    {
     "name": "stdout",
     "output_type": "stream",
     "text": [
      "  Item_Identifier  Item_Weight Item_Fat_Content  Item_Visibility  \\\n",
      "0           FDA15         9.30          Low Fat         0.016047   \n",
      "1           DRC01         5.92          Regular         0.019278   \n",
      "2           FDN15        17.50          Low Fat         0.016760   \n",
      "3           FDX07        19.20          Regular         0.000000   \n",
      "4           NCD19         8.93          Low Fat         0.000000   \n",
      "\n",
      "               Item_Type  Item_MRP Outlet_Identifier  \\\n",
      "0                  Dairy  249.8092            OUT049   \n",
      "1            Soft Drinks   48.2692            OUT018   \n",
      "2                   Meat  141.6180            OUT049   \n",
      "3  Fruits and Vegetables  182.0950            OUT010   \n",
      "4              Household   53.8614            OUT013   \n",
      "\n",
      "   Outlet_Establishment_Year Outlet_Size Outlet_Location_Type  \\\n",
      "0                       1999      Medium               Tier 1   \n",
      "1                       2009      Medium               Tier 3   \n",
      "2                       1999      Medium               Tier 1   \n",
      "3                       1998         NaN               Tier 3   \n",
      "4                       1987        High               Tier 3   \n",
      "\n",
      "         Outlet_Type  Item_Outlet_Sales  \n",
      "0  Supermarket Type1          3735.1380  \n",
      "1  Supermarket Type2           443.4228  \n",
      "2  Supermarket Type1          2097.2700  \n",
      "3      Grocery Store           732.3800  \n",
      "4  Supermarket Type1           994.7052  \n"
     ]
    }
   ],
   "source": [
    "print(train.head(5))"
   ]
  },
  {
   "cell_type": "code",
   "execution_count": 120,
   "metadata": {},
   "outputs": [
    {
     "name": "stdout",
     "output_type": "stream",
     "text": [
      "Item_Fat_Content\n",
      "LF          316\n",
      "Low Fat    5089\n",
      "Regular    2889\n",
      "low fat     112\n",
      "reg         117\n",
      "dtype: int64\n",
      "\n",
      "---------------------------\n",
      "\n",
      "Item_Type\n",
      "Baking Goods              648\n",
      "Breads                    251\n",
      "Breakfast                 110\n",
      "Canned                    649\n",
      "Dairy                     682\n",
      "Frozen Foods              856\n",
      "Fruits and Vegetables    1232\n",
      "Hard Drinks               214\n",
      "Health and Hygiene        520\n",
      "Household                 910\n",
      "Meat                      425\n",
      "Others                    169\n",
      "Seafood                    64\n",
      "Snack Foods              1200\n",
      "Soft Drinks               445\n",
      "Starchy Foods             148\n",
      "dtype: int64\n",
      "\n",
      "---------------------------\n",
      "\n",
      "Outlet_Identifier\n",
      "OUT010    555\n",
      "OUT013    932\n",
      "OUT017    926\n",
      "OUT018    928\n",
      "OUT019    528\n",
      "OUT027    935\n",
      "OUT035    930\n",
      "OUT045    929\n",
      "OUT046    930\n",
      "OUT049    930\n",
      "dtype: int64\n",
      "\n",
      "---------------------------\n",
      "\n",
      "Outlet_Size\n",
      "High       932\n",
      "Medium    2793\n",
      "Small     2388\n",
      "dtype: int64\n",
      "\n",
      "---------------------------\n",
      "\n",
      "Outlet_Location_Type\n",
      "Tier 1    2388\n",
      "Tier 2    2785\n",
      "Tier 3    3350\n",
      "dtype: int64\n",
      "\n",
      "---------------------------\n",
      "\n",
      "Outlet_Type\n",
      "Grocery Store        1083\n",
      "Supermarket Type1    5577\n",
      "Supermarket Type2     928\n",
      "Supermarket Type3     935\n",
      "dtype: int64\n",
      "\n",
      "---------------------------\n",
      "\n"
     ]
    }
   ],
   "source": [
    "for column in train.columns:\n",
    "    if(column =='Item_Identifier'):\n",
    "        continue;\n",
    "    if(train[column].dtype == 'str' or train[column].dtype == 'object'):\n",
    "          print (train.groupby(column).size())\n",
    "          print (\"\\n---------------------------\\n\")  "
   ]
  },
  {
   "cell_type": "code",
   "execution_count": 121,
   "metadata": {},
   "outputs": [
    {
     "data": {
      "text/plain": [
       "[]"
      ]
     },
     "execution_count": 121,
     "metadata": {},
     "output_type": "execute_result"
    },
    {
     "data": {
      "image/png": "[encoded data removed]",
      "text/plain": [
       "<matplotlib.figure.Figure at 0x1a16378e10>"
      ]
     },
     "metadata": {},
     "output_type": "display_data"
    }
   ],
   "source": [
    "train.hist()\n",
    "plt.plot()"
   ]
  },
  {
   "cell_type": "markdown",
   "metadata": {},
   "source": [
    "# Preprocessing"
   ]
  },
  {
   "cell_type": "markdown",
   "metadata": {},
   "source": [
    "## 1- Mean imputations"
   ]
  },
  {
   "cell_type": "code",
   "execution_count": 125,
   "metadata": {
    "collapsed": true
   },
   "outputs": [],
   "source": [
    "#train['Item_Weight'].fillna((train['Item_Weight'].mean()), inplace = True)\n",
    "#test['Item_Weight'].fillna((test['Item_Weight'].mean()), inplace = True)\n",
    "\n",
    "train['Item_Weight'] = train.groupby('Item_Identifier').transform(lambda x: x.fillna(x.mean()))\n",
    "test['Item_Weight'] = test.groupby('Item_Identifier').transform(lambda x: x.fillna(x.mean()))"
   ]
  },
  {
   "cell_type": "markdown",
   "metadata": {},
   "source": [
    "## 2- Reducing Fat content to only two category"
   ]
  },
  {
   "cell_type": "code",
   "execution_count": 126,
   "metadata": {
    "collapsed": true
   },
   "outputs": [],
   "source": [
    "train['Item_Fat_Content'] = train['Item_Fat_Content'].replace(['low fat', 'LF'],['Low Fat','Low Fat'])\n",
    "train['Item_Fat_Content'] = train['Item_Fat_Content'].replace(['reg'], ['Regular'])\n",
    "\n",
    "test['Item_Fat_Content'] = test['Item_Fat_Content'].replace(['low fat', 'LF'],['Low Fat','Low Fat'])\n",
    "test['Item_Fat_Content'] = test['Item_Fat_Content'].replace(['reg'], ['Regular'])"
   ]
  },
  {
   "cell_type": "code",
   "execution_count": 127,
   "metadata": {},
   "outputs": [
    {
     "name": "stdout",
     "output_type": "stream",
     "text": [
      "Item_Fat_Content\n",
      "Low Fat    5517\n",
      "Regular    3006\n",
      "dtype: int64\n"
     ]
    }
   ],
   "source": [
    "print (train.groupby('Item_Fat_Content').size())"
   ]
  },
  {
   "cell_type": "markdown",
   "metadata": {},
   "source": [
    "## 3- Filling mising outlet size to small "
   ]
  },
  {
   "cell_type": "code",
   "execution_count": 128,
   "metadata": {
    "collapsed": true
   },
   "outputs": [],
   "source": [
    "train['Outlet_Size'].fillna('Small', inplace=True)\n",
    "test['Outlet_Size'].fillna('Small', inplace=True)"
   ]
  },
  {
   "cell_type": "code",
   "execution_count": 129,
   "metadata": {},
   "outputs": [
    {
     "name": "stdout",
     "output_type": "stream",
     "text": [
      "Outlet_Size\n",
      "High       932\n",
      "Medium    2793\n",
      "Small     4798\n",
      "dtype: int64\n"
     ]
    }
   ],
   "source": [
    "print (train.groupby('Outlet_Size').size())"
   ]
  },
  {
   "cell_type": "code",
   "execution_count": 130,
   "metadata": {
    "collapsed": true
   },
   "outputs": [],
   "source": [
    "train['Item_Type'].fillna('Others', inplace=True)\n",
    "test['Item_Type'].fillna('Others', inplace=True)"
   ]
  },
  {
   "cell_type": "markdown",
   "metadata": {},
   "source": [
    "## 4- Establishment Year Alignment"
   ]
  },
  {
   "cell_type": "code",
   "execution_count": 131,
   "metadata": {
    "collapsed": true
   },
   "outputs": [],
   "source": [
    "train['Outlet_Establishment_Year'] = 2013 - train['Outlet_Establishment_Year']\n",
    "test['Outlet_Establishment_Year'] = 2013 - test['Outlet_Establishment_Year']"
   ]
  },
  {
   "cell_type": "markdown",
   "metadata": {},
   "source": [
    "## 5- Scaling Area feature to unit feature"
   ]
  },
  {
   "cell_type": "code",
   "execution_count": 132,
   "metadata": {
    "collapsed": true
   },
   "outputs": [],
   "source": [
    "train['Item_Visibility'] = np.sqrt(train['Item_Visibility'])\n",
    "test['Item_Visibility'] = np.sqrt(test['Item_Visibility'])"
   ]
  },
  {
   "cell_type": "markdown",
   "metadata": {},
   "source": [
    "## 6- Encoding Labels"
   ]
  },
  {
   "cell_type": "code",
   "execution_count": 133,
   "metadata": {},
   "outputs": [],
   "source": [
    "columns =['Outlet_Size', 'Outlet_Location_Type', 'Outlet_Type', 'Item_Fat_Content', 'Item_Type', 'Outlet_Identifier']\n",
    "outlet_ids = test['Outlet_Identifier']\n",
    "item_ids = test['Item_Identifier']\n",
    "lableEncoder = LabelEncoder()\n",
    "\n",
    "for column in columns:\n",
    "    lableEncoder.fit(train[column])\n",
    "    \n",
    "    train[column] = lableEncoder.transform(train[column].astype('str'))\n",
    "    train[column] = train[column].astype('object')\n",
    "    \n",
    "    test[column] = lableEncoder.transform(test[column].astype('str'))\n",
    "    test[column] = test[column].astype('object')"
   ]
  },
  {
   "cell_type": "code",
   "execution_count": 134,
   "metadata": {},
   "outputs": [
    {
     "name": "stdout",
     "output_type": "stream",
     "text": [
      "(5681, 10)\n",
      "(8523, 10)\n"
     ]
    }
   ],
   "source": [
    "target = train['Item_Outlet_Sales'] \n",
    "tpot_train = train.drop(['Item_Identifier','Item_Outlet_Sales'], axis=1)\n",
    "tpot_test = test.drop(['Item_Identifier'], axis=1)\n",
    "print(tpot_test.shape)\n",
    "print(tpot_train.shape)\n"
   ]
  },
  {
   "cell_type": "code",
   "execution_count": 135,
   "metadata": {},
   "outputs": [],
   "source": [
    "columnsToNormalize = ['Item_Weight', 'Item_Visibility', 'Item_MRP']\n",
    "normalizer = Normalizer()\n",
    "normalizer.fit(tpot_train[columnsToNormalize])\n",
    "\n",
    "tpot_train[columnsToNormalize] = normalizer.transform(tpot_train[columnsToNormalize])\n",
    "tpot_test[columnsToNormalize] = normalizer.transform(tpot_test[columnsToNormalize])"
   ]
  },
  {
   "cell_type": "code",
   "execution_count": 136,
   "metadata": {},
   "outputs": [],
   "source": [
    "from tpot import TPOTRegressor\n",
    "X_train, X_test, Y_train, Y_test = train_test_split(tpot_train, target, train_size = 0.90, test_size = 0.001)"
   ]
  },
  {
   "cell_type": "code",
   "execution_count": null,
   "metadata": {},
   "outputs": [
    {
     "name": "stderr",
     "output_type": "stream",
     "text": [
      "/Users/hgupta/anaconda3/lib/python3.6/site-packages/deap/creator.py:141: RuntimeWarning: A class named 'FitnessMulti' has already been created and it will be overwritten. Consider deleting previous creation of that class or rename it.\n",
      "  RuntimeWarning)\n",
      "/Users/hgupta/anaconda3/lib/python3.6/site-packages/deap/creator.py:141: RuntimeWarning: A class named 'Individual' has already been created and it will be overwritten. Consider deleting previous creation of that class or rename it.\n",
      "  RuntimeWarning)\n",
      "Optimization Progress:  12%|█▏        | 36/300 [05:22<14:10,  3.22s/pipeline]  "
     ]
    }
   ],
   "source": [
    "tpot = TPOTRegressor(generations=5, population_size=50, verbosity=2)\n",
    "tpot.fit(X_train,Y_train)\n",
    "print(tpot.score(X_test, Y_test))\n",
    "tpot.export('tpot_boston_pipeline.py')"
   ]
  },
  {
   "cell_type": "code",
   "execution_count": null,
   "metadata": {},
   "outputs": [],
   "source": [
    "tpot_pred = tpot.predict(tpot_test)\n",
    "solution = pd.DataFrame(data=tpot_pred,columns = ['Item_Outlet_Sales'])\n",
    "#solution.rename(columns = {'0': 'Item_Outlet_Sales'},inplace=True)\n",
    "solution['Item_Identifier'] = item_ids\n",
    "solution['Outlet_Identifier'] = outlet_ids\n",
    "print(solution.columns)\n",
    "solution = solution[['Item_Identifier','Outlet_Identifier','Item_Outlet_Sales']]\n",
    "solution.to_csv('tpot.csv', index=False)"
   ]
  },
  {
   "cell_type": "code",
   "execution_count": null,
   "metadata": {
    "collapsed": true
   },
   "outputs": [],
   "source": []
  }
 ],
 "metadata": {
  "kernelspec": {
   "display_name": "Python 3",
   "language": "python",
   "name": "python3"
  },
  "language_info": {
   "codemirror_mode": {
    "name": "ipython",
    "version": 3
   },
   "file_extension": ".py",
   "mimetype": "text/x-python",
   "name": "python",
   "nbconvert_exporter": "python",
   "pygments_lexer": "ipython3",
   "version": "3.6.3"
  }
 },
 "nbformat": 4,
 "nbformat_minor": 2
}
